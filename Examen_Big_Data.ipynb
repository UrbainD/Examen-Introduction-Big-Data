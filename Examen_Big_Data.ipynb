{
  "cells": [
    {
      "cell_type": "markdown",
      "source": [
        "# **Urbain Mahecor DIAGNE Master 2 BI & Big Data**\n",
        "## Numéro Etudiant: 221537\n"
      ],
      "metadata": {
        "id": "cLdqXR9C_7gF"
      }
    },
    {
      "cell_type": "markdown",
      "source": [
        "# **Examen Introduction à la Big Data**"
      ],
      "metadata": {
        "id": "HSvxpIEGx54P"
      }
    },
    {
      "cell_type": "markdown",
      "source": [
        "### **Source de données**"
      ],
      "metadata": {
        "id": "RyiY4rHQyCrK"
      }
    },
    {
      "cell_type": "markdown",
      "source": [
        "L'objectif de ce projet est de construire un modèle de détection de fraude bancaire en utilisant Spark ML. Le modèle prendra en entrée un ensemble de caractéristiques liées à une transaction (par exemple, le montant de la transaction, le pays de l'émetteur, le type de carte, etc.) et prédira si la transaction est frauduleuse ou non."
      ],
      "metadata": {
        "id": "9aY0gKpuySzk"
      }
    },
    {
      "cell_type": "markdown",
      "source": [
        "### **Exploration des données**"
      ],
      "metadata": {
        "id": "vl5TkLZryVcr"
      }
    },
    {
      "cell_type": "markdown",
      "source": [
        "L'ensemble de données contient les transactions effectuées par carte de crédit en septembre 2013 par des titulaires de cartes européens. Cet ensemble de données présente les transactions survenues en deux jours, où nous avons 492 fraudes sur 284 807 transactions. L'ensemble de données est très déséquilibré, la classe positive (fraudes) représentant 0,172% de toutes les transactions.\n",
        "\n",
        "Il contient uniquement des variables d'entrée numériques qui sont le résultat d'une transformation ACP. Malheureusement, en raison de problèmes de confidentialité, nous ne pouvons pas fournir les caractéristiques originales ni davantage d'informations générales sur les données. Les fonctionnalités V1, V2, … V28 sont les principales composantes obtenues avec ACP, les seules fonctionnalités qui n'ont pas été transformées avec ACP sont 'Time' et 'Amount'. La fonctionnalité « Time » contient les secondes écoulées entre chaque transaction et la première transaction de l'ensemble de données. La fonctionnalité « Montant » correspond au montant de la transaction. Cette fonctionnalité peut être utilisée pour un apprentissage sensible aux coûts, en fonction d'un exemple. La fonctionnalité « Class » est la variable de réponse et elle prend la valeur 1 en cas de fraude et 0 sinon."
      ],
      "metadata": {
        "id": "xnyaoTY7ykgA"
      }
    },
    {
      "cell_type": "markdown",
      "source": [
        "### **Préparation des données**"
      ],
      "metadata": {
        "id": "hGSzavXiyrAy"
      }
    },
    {
      "cell_type": "markdown",
      "metadata": {
        "id": "tXcgeX80nuB3"
      },
      "source": [
        "#### **Importation des bibliothèques requises**"
      ]
    },
    {
      "cell_type": "code",
      "source": [
        "# Install PySpark\n",
        "!pip install pyspark"
      ],
      "metadata": {
        "colab": {
          "base_uri": "https://localhost:8080/"
        },
        "id": "cIqtEzm8oSPp",
        "outputId": "8bc06a37-26b6-458d-99f3-9bc30d8b3eb5"
      },
      "execution_count": 2,
      "outputs": [
        {
          "output_type": "stream",
          "name": "stdout",
          "text": [
            "Collecting pyspark\n",
            "  Downloading pyspark-3.5.1.tar.gz (317.0 MB)\n",
            "\u001b[2K     \u001b[90m━━━━━━━━━━━━━━━━━━━━━━━━━━━━━━━━━━━━━━━━\u001b[0m \u001b[32m317.0/317.0 MB\u001b[0m \u001b[31m4.1 MB/s\u001b[0m eta \u001b[36m0:00:00\u001b[0m\n",
            "\u001b[?25h  Preparing metadata (setup.py) ... \u001b[?25l\u001b[?25hdone\n",
            "Requirement already satisfied: py4j==0.10.9.7 in /usr/local/lib/python3.10/dist-packages (from pyspark) (0.10.9.7)\n",
            "Building wheels for collected packages: pyspark\n",
            "  Building wheel for pyspark (setup.py) ... \u001b[?25l\u001b[?25hdone\n",
            "  Created wheel for pyspark: filename=pyspark-3.5.1-py2.py3-none-any.whl size=317488491 sha256=312ff1c8dbc84b7486b8e278ca26ecefd7e15dca40a517b0a1e53085829aff20\n",
            "  Stored in directory: /root/.cache/pip/wheels/80/1d/60/2c256ed38dddce2fdd93be545214a63e02fbd8d74fb0b7f3a6\n",
            "Successfully built pyspark\n",
            "Installing collected packages: pyspark\n",
            "Successfully installed pyspark-3.5.1\n"
          ]
        }
      ]
    },
    {
      "cell_type": "code",
      "source": [
        "!pip install findspark"
      ],
      "metadata": {
        "colab": {
          "base_uri": "https://localhost:8080/"
        },
        "id": "C865wHl2o_qH",
        "outputId": "bb19c464-0aff-42dd-de24-98df97a7eb18"
      },
      "execution_count": 6,
      "outputs": [
        {
          "output_type": "stream",
          "name": "stdout",
          "text": [
            "Collecting findspark\n",
            "  Downloading findspark-2.0.1-py2.py3-none-any.whl (4.4 kB)\n",
            "Installing collected packages: findspark\n",
            "Successfully installed findspark-2.0.1\n"
          ]
        }
      ]
    },
    {
      "cell_type": "code",
      "source": [
        "# Import PySpark\n",
        "from pyspark.sql import SparkSession"
      ],
      "metadata": {
        "id": "KvP45RwAovmR"
      },
      "execution_count": 4,
      "outputs": []
    },
    {
      "cell_type": "code",
      "execution_count": 7,
      "metadata": {
        "colab": {
          "base_uri": "https://localhost:8080/"
        },
        "id": "85tvQtpanuCD",
        "outputId": "76c97c79-5418-49c9-8f01-bf7df2248685"
      },
      "outputs": [
        {
          "output_type": "stream",
          "name": "stderr",
          "text": [
            "/usr/local/lib/python3.10/dist-packages/pyspark/sql/context.py:113: FutureWarning: Deprecated in 3.0.0. Use SparkSession.builder.getOrCreate() instead.\n",
            "  warnings.warn(\n"
          ]
        }
      ],
      "source": [
        "import findspark\n",
        "findspark.init()\n",
        "import pyspark\n",
        "conf = pyspark.SparkConf().setAppName(\"App\")\n",
        "conf = (conf.setMaster('local[*]')\n",
        "        .set('spark.executor.memory', '4G')\n",
        "        .set('spark.driver.memory', '10G')\n",
        "        .set('spark.driver.maxResultSize', '10G'))\n",
        "sc = pyspark.SparkContext(conf=conf)\n",
        "from pyspark.sql import SQLContext,SparkSession\n",
        "from pyspark.sql.functions import *\n",
        "from pyspark.sql.window import Window\n",
        "sqlc = SQLContext(sc)\n",
        "spark = SparkSession.builder.getOrCreate()"
      ]
    },
    {
      "cell_type": "markdown",
      "metadata": {
        "id": "5RaCPDcUnuCH"
      },
      "source": [
        "#### **Importation des données**"
      ]
    },
    {
      "cell_type": "code",
      "execution_count": 10,
      "metadata": {
        "id": "CkLt-2WQnuCI"
      },
      "outputs": [],
      "source": [
        "data = spark.read.format(\"csv\").option(\"header\",\"true\").load(\"creditcard.csv\")"
      ]
    },
    {
      "cell_type": "code",
      "source": [
        "data.printSchema()"
      ],
      "metadata": {
        "colab": {
          "base_uri": "https://localhost:8080/"
        },
        "id": "GcDUdK7K3hvN",
        "outputId": "c1336e34-abbe-4bc4-bf6a-a6665ceed339"
      },
      "execution_count": 57,
      "outputs": [
        {
          "output_type": "stream",
          "name": "stdout",
          "text": [
            "root\n",
            " |-- Time: double (nullable = true)\n",
            " |-- V1: double (nullable = true)\n",
            " |-- V2: double (nullable = true)\n",
            " |-- V3: double (nullable = true)\n",
            " |-- V4: double (nullable = true)\n",
            " |-- V5: double (nullable = true)\n",
            " |-- V6: double (nullable = true)\n",
            " |-- V7: double (nullable = true)\n",
            " |-- V8: double (nullable = true)\n",
            " |-- V9: double (nullable = true)\n",
            " |-- V10: double (nullable = true)\n",
            " |-- V11: double (nullable = true)\n",
            " |-- V12: double (nullable = true)\n",
            " |-- V13: double (nullable = true)\n",
            " |-- V14: double (nullable = true)\n",
            " |-- V15: double (nullable = true)\n",
            " |-- V16: double (nullable = true)\n",
            " |-- V17: double (nullable = true)\n",
            " |-- V18: double (nullable = true)\n",
            " |-- V19: double (nullable = true)\n",
            " |-- V20: double (nullable = true)\n",
            " |-- V21: double (nullable = true)\n",
            " |-- V22: double (nullable = true)\n",
            " |-- V23: double (nullable = true)\n",
            " |-- V24: double (nullable = true)\n",
            " |-- V25: double (nullable = true)\n",
            " |-- V26: double (nullable = true)\n",
            " |-- V27: double (nullable = true)\n",
            " |-- V28: double (nullable = true)\n",
            " |-- Amount: double (nullable = true)\n",
            " |-- Class: double (nullable = true)\n",
            " |-- idx: integer (nullable = false)\n",
            "\n"
          ]
        }
      ]
    },
    {
      "cell_type": "code",
      "source": [
        "len(data.columns)"
      ],
      "metadata": {
        "colab": {
          "base_uri": "https://localhost:8080/"
        },
        "id": "dlDSo4qRz5Cy",
        "outputId": "6a70173e-bca3-4e42-8b04-99baeb8ddd45"
      },
      "execution_count": 46,
      "outputs": [
        {
          "output_type": "execute_result",
          "data": {
            "text/plain": [
              "32"
            ]
          },
          "metadata": {},
          "execution_count": 46
        }
      ]
    },
    {
      "cell_type": "code",
      "source": [
        "data.head(5)"
      ],
      "metadata": {
        "colab": {
          "base_uri": "https://localhost:8080/"
        },
        "id": "ORJqlBTn0gIq",
        "outputId": "a6b7c9f9-39af-43f7-d025-bcdb25019905"
      },
      "execution_count": 48,
      "outputs": [
        {
          "output_type": "execute_result",
          "data": {
            "text/plain": [
              "[Row(Time=0.0, V1=-1.3598071336738, V2=-0.0727811733098497, V3=2.53634673796914, V4=1.37815522427443, V5=-0.338320769942518, V6=0.462387777762292, V7=0.239598554061257, V8=0.0986979012610507, V9=0.363786969611213, V10=0.0907941719789316, V11=-0.551599533260813, V12=-0.617800855762348, V13=-0.991389847235408, V14=-0.311169353699879, V15=1.46817697209427, V16=-0.470400525259478, V17=0.207971241929242, V18=0.0257905801985591, V19=0.403992960255733, V20=0.251412098239705, V21=-0.018306777944153, V22=0.277837575558899, V23=-0.110473910188767, V24=0.0669280749146731, V25=0.128539358273528, V26=-0.189114843888824, V27=0.133558376740387, V28=-0.0210530534538215, Amount=149.62, Class=0.0, idx=1),\n",
              " Row(Time=0.0, V1=1.19185711131486, V2=0.26615071205963, V3=0.16648011335321, V4=0.448154078460911, V5=0.0600176492822243, V6=-0.0823608088155687, V7=-0.0788029833323113, V8=0.0851016549148104, V9=-0.255425128109186, V10=-0.166974414004614, V11=1.61272666105479, V12=1.06523531137287, V13=0.48909501589608, V14=-0.143772296441519, V15=0.635558093258208, V16=0.463917041022171, V17=-0.114804663102346, V18=-0.183361270123994, V19=-0.145783041325259, V20=-0.0690831352230203, V21=-0.225775248033138, V22=-0.638671952771851, V23=0.101288021253234, V24=-0.339846475529127, V25=0.167170404418143, V26=0.125894532368176, V27=-0.00898309914322813, V28=0.0147241691924927, Amount=2.69, Class=0.0, idx=2),\n",
              " Row(Time=1.0, V1=-1.35835406159823, V2=-1.34016307473609, V3=1.77320934263119, V4=0.379779593034328, V5=-0.503198133318193, V6=1.80049938079263, V7=0.791460956450422, V8=0.247675786588991, V9=-1.51465432260583, V10=0.207642865216696, V11=0.624501459424895, V12=0.066083685268831, V13=0.717292731410831, V14=-0.165945922763554, V15=2.34586494901581, V16=-2.89008319444231, V17=1.10996937869599, V18=-0.121359313195888, V19=-2.26185709530414, V20=0.524979725224404, V21=0.247998153469754, V22=0.771679401917229, V23=0.909412262347719, V24=-0.689280956490685, V25=-0.327641833735251, V26=-0.139096571514147, V27=-0.0553527940384261, V28=-0.0597518405929204, Amount=378.66, Class=0.0, idx=3),\n",
              " Row(Time=1.0, V1=-0.966271711572087, V2=-0.185226008082898, V3=1.79299333957872, V4=-0.863291275036453, V5=-0.0103088796030823, V6=1.24720316752486, V7=0.23760893977178, V8=0.377435874652262, V9=-1.38702406270197, V10=-0.0549519224713749, V11=-0.226487263835401, V12=0.178228225877303, V13=0.507756869957169, V14=-0.28792374549456, V15=-0.631418117709045, V16=-1.0596472454325, V17=-0.684092786345479, V18=1.96577500349538, V19=-1.2326219700892, V20=-0.208037781160366, V21=-0.108300452035545, V22=0.00527359678253453, V23=-0.190320518742841, V24=-1.17557533186321, V25=0.647376034602038, V26=-0.221928844458407, V27=0.0627228487293033, V28=0.0614576285006353, Amount=123.5, Class=0.0, idx=4),\n",
              " Row(Time=2.0, V1=-1.15823309349523, V2=0.877736754848451, V3=1.548717846511, V4=0.403033933955121, V5=-0.407193377311653, V6=0.0959214624684256, V7=0.592940745385545, V8=-0.270532677192282, V9=0.817739308235294, V10=0.753074431976354, V11=-0.822842877946363, V12=0.53819555014995, V13=1.3458515932154, V14=-1.11966983471731, V15=0.175121130008994, V16=-0.451449182813529, V17=-0.237033239362776, V18=-0.0381947870352842, V19=0.803486924960175, V20=0.408542360392758, V21=-0.00943069713232919, V22=0.79827849458971, V23=-0.137458079619063, V24=0.141266983824769, V25=-0.206009587619756, V26=0.502292224181569, V27=0.219422229513348, V28=0.215153147499206, Amount=69.99, Class=0.0, idx=5)]"
            ]
          },
          "metadata": {},
          "execution_count": 48
        }
      ]
    },
    {
      "cell_type": "markdown",
      "source": [
        "Pour un rendu juste nous allons juste visualisé une partie du dataframe data"
      ],
      "metadata": {
        "id": "fNMbBQgC1WjZ"
      }
    },
    {
      "cell_type": "code",
      "source": [
        "data.select(\n",
        "    \"Time\",\n",
        "    \"V1\",\n",
        "    \"V2\",\n",
        "    \"V3\",\n",
        "    \"Amount\",\n",
        "    \"Class\"\n",
        ").show()"
      ],
      "metadata": {
        "colab": {
          "base_uri": "https://localhost:8080/"
        },
        "id": "oRZzLU5S0sVu",
        "outputId": "3a795081-3f16-466d-e250-f5dff244e838"
      },
      "execution_count": 49,
      "outputs": [
        {
          "output_type": "stream",
          "name": "stdout",
          "text": [
            "+----+------------------+-------------------+------------------+------+-----+\n",
            "|Time|                V1|                 V2|                V3|Amount|Class|\n",
            "+----+------------------+-------------------+------------------+------+-----+\n",
            "| 0.0|  -1.3598071336738|-0.0727811733098497|  2.53634673796914|149.62|  0.0|\n",
            "| 0.0|  1.19185711131486|   0.26615071205963|  0.16648011335321|  2.69|  0.0|\n",
            "| 1.0| -1.35835406159823|  -1.34016307473609|  1.77320934263119|378.66|  0.0|\n",
            "| 1.0|-0.966271711572087| -0.185226008082898|  1.79299333957872| 123.5|  0.0|\n",
            "| 2.0| -1.15823309349523|  0.877736754848451|    1.548717846511| 69.99|  0.0|\n",
            "| 2.0|-0.425965884412454|  0.960523044882985|  1.14110934232219|  3.67|  0.0|\n",
            "| 4.0|  1.22965763450793|  0.141003507049326|0.0453707735899449|  4.99|  0.0|\n",
            "| 7.0|-0.644269442348146|   1.41796354547385|   1.0743803763556|  40.8|  0.0|\n",
            "| 7.0| -0.89428608220282|  0.286157196276544|-0.113192212729871|  93.2|  0.0|\n",
            "| 9.0| -0.33826175242575|   1.11959337641566|  1.04436655157316|  3.68|  0.0|\n",
            "|10.0|  1.44904378114715|  -1.17633882535966| 0.913859832832795|   7.8|  0.0|\n",
            "|10.0|  0.38497821518095|  0.616109459176472|-0.874299702595052|  9.99|  0.0|\n",
            "|10.0|    1.249998742053|  -1.22163680921816| 0.383930151282291| 121.5|  0.0|\n",
            "|11.0|   1.0693735878819|  0.287722129331455| 0.828612726634281|  27.5|  0.0|\n",
            "|12.0|  -2.7918547659339| -0.327770756658658|  1.64175016056605|  58.8|  0.0|\n",
            "|12.0|-0.752417042956605|  0.345485415344747|  2.05732291276727| 15.99|  0.0|\n",
            "|12.0|  1.10321543528383|-0.0402962145973447|   1.2673320885949| 12.99|  0.0|\n",
            "|13.0|-0.436905071360625|  0.918966212909322|  0.92459077438817|  0.89|  0.0|\n",
            "|14.0| -5.40125766315825|  -5.45014783420644|  1.18630463143652|  46.8|  0.0|\n",
            "|15.0|   1.4929359769862|  -1.02934573189487|  0.45479473374366|   5.0|  0.0|\n",
            "+----+------------------+-------------------+------------------+------+-----+\n",
            "only showing top 20 rows\n",
            "\n"
          ]
        }
      ]
    },
    {
      "cell_type": "code",
      "source": [
        "data.describe().show()"
      ],
      "metadata": {
        "colab": {
          "base_uri": "https://localhost:8080/"
        },
        "id": "QYUQufd630c3",
        "outputId": "504b9502-391f-471a-df0a-689266252900"
      },
      "execution_count": 58,
      "outputs": [
        {
          "output_type": "stream",
          "name": "stdout",
          "text": [
            "+-------+------------------+--------------------+-------------------+------------------+-------------------+--------------------+------------------+--------------------+--------------------+-------------------+-------------------+-------------------+-------------------+-------------------+-------------------+-------------------+--------------------+-------------------+--------------------+--------------------+-------------------+--------------------+--------------------+--------------------+--------------------+-------------------+-------------------+--------------------+--------------------+------------------+--------------------+------------------+\n",
            "|summary|              Time|                  V1|                 V2|                V3|                 V4|                  V5|                V6|                  V7|                  V8|                 V9|                V10|                V11|                V12|                V13|                V14|                V15|                 V16|                V17|                 V18|                 V19|                V20|                 V21|                 V22|                 V23|                 V24|                V25|                V26|                 V27|                 V28|            Amount|               Class|               idx|\n",
            "+-------+------------------+--------------------+-------------------+------------------+-------------------+--------------------+------------------+--------------------+--------------------+-------------------+-------------------+-------------------+-------------------+-------------------+-------------------+-------------------+--------------------+-------------------+--------------------+--------------------+-------------------+--------------------+--------------------+--------------------+--------------------+-------------------+-------------------+--------------------+--------------------+------------------+--------------------+------------------+\n",
            "|  count|            158602|              158602|             158602|            158602|             158602|              158602|            158602|              158602|              158602|             158602|             158602|             158602|             158602|             158602|             158602|             158602|              158602|             158602|              158602|              158602|             158602|              158602|              158602|              158602|              158602|             158602|             158602|              158602|              158602|            158602|              158602|            158602|\n",
            "|   mean| 56792.76522364157|-0.21789892305622263|0.05107742684942754|0.5834907557456114|0.14000197722421057|-0.21771553599728616|0.0683510798134459|-0.09920115932205277|0.043360178908934316|0.01892418054607051|-0.0418332475657319|0.22566075459793158|-0.1116330893471381|0.07984677471852744|0.09973923857836997|0.15521614563725167|-0.01178535470399...|0.05432261058009979|-0.05648107820063203|-0.02418144694845...|0.03586950124595608|-0.03799285105131871|-0.10582385517313427|-0.02655543570780585|0.008722125824376377|0.10783913048170869|0.01642338363295231|0.001440655509022933|0.002375372809953194| 87.74780336945359|0.002244612299970...|           79301.5|\n",
            "| stddev|24015.215613635442|   1.844292144149626|  1.619322377936304|1.3470264404977506| 1.3606434576568553|  1.3327478226338285|1.2908177943352444|  1.2133876156653243|  1.2438891623961996| 1.1635799722135685| 1.0999187256598004| 1.0502680313063406| 1.1693663683002586| 1.0593009556836994| 0.9825959700549063| 0.9557471871300625|  0.8853439210066906| 0.9241744614760417|  0.8357438044118632|   0.812185759781098| 0.7260630332836636|  0.7480148365990615|   0.651719329517557|  0.5878862145592529|  0.5963410735587013| 0.4543881366214857|  0.493503307656337|   0.393422164887914|  0.3111441770904329|245.82504598620608| 0.04732428696135073|45784.598034346294|\n",
            "|    min|               0.0|    -56.407509631329|  -72.7157275629303| -33.6809840183525|  -5.51969712328415|   -42.1478983728015| -26.1605059358433|   -43.5572415712451|   -73.2167184552674|  -13.4340663182301|  -24.5882624372475|  -4.04989491435061|  -18.6837146333443|  -5.79188120632084|  -19.2143254902614|  -4.49894467676621|   -14.1298545174931|  -25.1627993693248|   -9.49874592104677|   -7.21352743017759|  -22.8385483047643|   -34.8303821448146|    -10.933143697655|   -44.8077352037913|   -2.83662691870341|  -10.2953970749851|  -2.60455055280817|   -22.5656793207827|   -11.7108956394515|               0.0|                 0.0|                 1|\n",
            "|    max|          111502.0|    2.43920748106102|   22.0577289904909|  9.38255843282114|   16.8753440335975|    34.8016658766686|  22.5292984665587|    36.6772679454031|    20.0072083651213|   15.5949946071278|   23.7451361206545|   12.0189131816199|    7.8483920756446|   4.56900895856606|   10.5267660517847|   5.78451388962946|     6.0985294505409|   9.25352625047285|    5.04106918541184|     5.2283417900513|   39.4209042482199|    27.2028391573154|    10.5030900899454|    19.0029418232927|    4.02286589044732|   7.51958867870916|    3.5173456116238|    12.1524011068287|    33.8478078188831|          19656.53|                 1.0|            158602|\n",
            "+-------+------------------+--------------------+-------------------+------------------+-------------------+--------------------+------------------+--------------------+--------------------+-------------------+-------------------+-------------------+-------------------+-------------------+-------------------+-------------------+--------------------+-------------------+--------------------+--------------------+-------------------+--------------------+--------------------+--------------------+--------------------+-------------------+-------------------+--------------------+--------------------+------------------+--------------------+------------------+\n",
            "\n"
          ]
        }
      ]
    },
    {
      "cell_type": "markdown",
      "metadata": {
        "id": "eg68thXjnuCJ"
      },
      "source": [
        "#### **Vérification de la fréquence Classe**"
      ]
    },
    {
      "cell_type": "code",
      "execution_count": 11,
      "metadata": {
        "colab": {
          "base_uri": "https://localhost:8080/"
        },
        "id": "7sr2u4FcnuCK",
        "outputId": "6916cb7f-fd0b-415e-965b-96cf6c1470fd"
      },
      "outputs": [
        {
          "output_type": "stream",
          "name": "stdout",
          "text": [
            "+-----+------+\n",
            "|Class| count|\n",
            "+-----+------+\n",
            "|    0|158246|\n",
            "|    1|   356|\n",
            "+-----+------+\n",
            "\n"
          ]
        }
      ],
      "source": [
        "classFreq = data.groupBy(\"Class\").count()\n",
        "classFreq.show()"
      ]
    },
    {
      "cell_type": "code",
      "execution_count": 12,
      "metadata": {
        "id": "s7N5ajT5nuCM"
      },
      "outputs": [],
      "source": [
        "toPlot = classFreq.toPandas()"
      ]
    },
    {
      "cell_type": "code",
      "execution_count": 13,
      "metadata": {
        "colab": {
          "base_uri": "https://localhost:8080/",
          "height": 466
        },
        "id": "S-2W52BrnuCN",
        "outputId": "5e6c816e-baa3-4b54-f532-a8cd54feead2"
      },
      "outputs": [
        {
          "output_type": "execute_result",
          "data": {
            "text/plain": [
              "<Axes: xlabel='Class'>"
            ]
          },
          "metadata": {},
          "execution_count": 13
        },
        {
          "output_type": "display_data",
          "data": {
            "text/plain": [
              "<Figure size 640x480 with 1 Axes>"
            ],
            "image/png": "[encoded data removed]"
          },
          "metadata": {}
        }
      ],
      "source": [
        "toPlot.plot.bar(x='Class', y='count',rot=0)"
      ]
    },
    {
      "cell_type": "markdown",
      "metadata": {
        "id": "rJCoxaQJnuCO"
      },
      "source": [
        "#### **Conversion du type de données String des colonnes en double**"
      ]
    },
    {
      "cell_type": "code",
      "execution_count": 14,
      "metadata": {
        "id": "2yFfdDNAnuCO"
      },
      "outputs": [],
      "source": [
        "for column in data.columns:\n",
        "    data = data.withColumn(column,data[column].cast(\"double\"))"
      ]
    },
    {
      "cell_type": "markdown",
      "metadata": {
        "id": "o4PgXl5unuCP"
      },
      "source": [
        "#### **Ajout d'un index pour garder une trace des lignes même après une lecture aléatoire**"
      ]
    },
    {
      "cell_type": "code",
      "execution_count": 15,
      "metadata": {
        "id": "vf75DXc0nuCP"
      },
      "outputs": [],
      "source": [
        "from pyspark.sql.window import Window\n",
        "win = Window().orderBy('Time')\n",
        "data = data.withColumn(\"idx\", row_number().over(win))"
      ]
    },
    {
      "cell_type": "markdown",
      "metadata": {
        "id": "QCpDgYu2nuCP"
      },
      "source": [
        "#### **Importation des méthodes de bibliothèque Spark ML requises**"
      ]
    },
    {
      "cell_type": "code",
      "execution_count": 16,
      "metadata": {
        "id": "cDhUeEHznuCQ"
      },
      "outputs": [],
      "source": [
        "from pyspark.ml import Pipeline\n",
        "from pyspark.ml.classification import GBTClassifier\n",
        "from pyspark.ml.feature import VectorIndexer, VectorAssembler\n",
        "from pyspark.ml.evaluation import BinaryClassificationEvaluator\n",
        "from pyspark.ml.linalg import DenseVector"
      ]
    },
    {
      "cell_type": "markdown",
      "metadata": {
        "id": "2eYNDfOynuCQ"
      },
      "source": [
        "#### **Conversion des colonnes de fonctionnalités en vecteur et création de colonnes d'étiquettes et d'index**"
      ]
    },
    {
      "cell_type": "code",
      "execution_count": 18,
      "metadata": {
        "id": "shQwonbtnuCQ"
      },
      "outputs": [],
      "source": [
        "training_df = data.rdd.map(lambda x: (DenseVector(x[0:29]),x[30],x[31]))"
      ]
    },
    {
      "cell_type": "code",
      "execution_count": 19,
      "metadata": {
        "id": "jKLF3A0anuCR"
      },
      "outputs": [],
      "source": [
        "training_df = spark.createDataFrame(training_df,[\"features\",\"label\",\"index\"])"
      ]
    },
    {
      "cell_type": "code",
      "execution_count": 20,
      "metadata": {
        "id": "AZaodaH9nuCR"
      },
      "outputs": [],
      "source": [
        "training_df = training_df.select(\"index\",\"features\",\"label\")"
      ]
    },
    {
      "cell_type": "markdown",
      "metadata": {
        "id": "yfY2U1iWnuCR"
      },
      "source": [
        "#### **Diviser les données en données d'entrainement et de test**"
      ]
    },
    {
      "cell_type": "code",
      "execution_count": 21,
      "metadata": {
        "id": "P_FGygQQnuCR"
      },
      "outputs": [],
      "source": [
        "train_data, test_data = training_df.randomSplit([.8,.2],seed=1234)"
      ]
    },
    {
      "cell_type": "code",
      "execution_count": 22,
      "metadata": {
        "scrolled": true,
        "colab": {
          "base_uri": "https://localhost:8080/"
        },
        "id": "FPlbwgeenuCS",
        "outputId": "3896bf18-fcd5-4703-8ed7-d449c21815e3"
      },
      "outputs": [
        {
          "output_type": "stream",
          "name": "stdout",
          "text": [
            "+-----+------+\n",
            "|label| count|\n",
            "+-----+------+\n",
            "|  0.0|126727|\n",
            "|  1.0|   285|\n",
            "+-----+------+\n",
            "\n"
          ]
        }
      ],
      "source": [
        "train_data.groupBy(\"label\").count().show()"
      ]
    },
    {
      "cell_type": "code",
      "execution_count": 23,
      "metadata": {
        "colab": {
          "base_uri": "https://localhost:8080/"
        },
        "id": "tb8IjbPInuCS",
        "outputId": "7c2236c0-458b-40e6-da39-21dea6be0192"
      },
      "outputs": [
        {
          "output_type": "stream",
          "name": "stdout",
          "text": [
            "+-----+-----+\n",
            "|label|count|\n",
            "+-----+-----+\n",
            "|  0.0|31519|\n",
            "|  1.0|   71|\n",
            "+-----+-----+\n",
            "\n"
          ]
        }
      ],
      "source": [
        "test_data.groupBy(\"label\").count().show()"
      ]
    },
    {
      "cell_type": "markdown",
      "metadata": {
        "id": "3UCssNDfnuCT"
      },
      "source": [
        "#### **Création d'un Gradient Boosting Trees Classifier Model pour ajuster et prédire les données**"
      ]
    },
    {
      "cell_type": "code",
      "execution_count": 24,
      "metadata": {
        "id": "_eawKVM-nuCT"
      },
      "outputs": [],
      "source": [
        "gbt = GBTClassifier(featuresCol=\"features\", maxIter=100,maxDepth=8)"
      ]
    },
    {
      "cell_type": "code",
      "execution_count": 25,
      "metadata": {
        "id": "qwRsDYYgnuCU"
      },
      "outputs": [],
      "source": [
        "model = gbt.fit(train_data)"
      ]
    },
    {
      "cell_type": "code",
      "execution_count": 26,
      "metadata": {
        "id": "P-huNb-8nuCU"
      },
      "outputs": [],
      "source": [
        "predictions = model.transform(test_data)"
      ]
    },
    {
      "cell_type": "markdown",
      "metadata": {
        "id": "nf0NI6JYnuCU"
      },
      "source": [
        "#### **Vérification du nombre d'enregistrements classés dans chaque classe**"
      ]
    },
    {
      "cell_type": "code",
      "execution_count": 27,
      "metadata": {
        "colab": {
          "base_uri": "https://localhost:8080/"
        },
        "id": "ix2aCgnynuCU",
        "outputId": "ba092896-4c29-4a62-e87f-15a467aceb69"
      },
      "outputs": [
        {
          "output_type": "stream",
          "name": "stdout",
          "text": [
            "+----------+-----+\n",
            "|prediction|count|\n",
            "+----------+-----+\n",
            "|       0.0|31525|\n",
            "|       1.0|   65|\n",
            "+----------+-----+\n",
            "\n"
          ]
        }
      ],
      "source": [
        "predictions.groupBy(\"prediction\").count().show()"
      ]
    },
    {
      "cell_type": "markdown",
      "metadata": {
        "id": "T_L4Cg3GnuCV"
      },
      "source": [
        "#### **Calcul de la précision du modèle**\n",
        "#### **A noté que cela peut être trompeur en raison du déséquilibre des classes**"
      ]
    },
    {
      "cell_type": "code",
      "execution_count": 28,
      "metadata": {
        "scrolled": true,
        "colab": {
          "base_uri": "https://localhost:8080/"
        },
        "id": "JzckQDn6nuCV",
        "outputId": "3a6dacb1-15f2-4a2b-f155-a9e2cc89655d"
      },
      "outputs": [
        {
          "output_type": "execute_result",
          "data": {
            "text/plain": [
              "0.9490644811155741"
            ]
          },
          "metadata": {},
          "execution_count": 28
        }
      ],
      "source": [
        "evaluator = BinaryClassificationEvaluator()\n",
        "evaluator.evaluate(predictions)"
      ]
    },
    {
      "cell_type": "markdown",
      "metadata": {
        "id": "-v7oH99pnuCV"
      },
      "source": [
        "#### **Calcul du pourcentage d'enregistrements de fraude prédit correctement**"
      ]
    },
    {
      "cell_type": "code",
      "execution_count": 29,
      "metadata": {
        "id": "Y-NC6tqinuCV"
      },
      "outputs": [],
      "source": [
        "predictions = predictions.withColumn(\"fraudPrediction\",when((predictions.label==1)&(predictions.prediction==1),1).otherwise(0))"
      ]
    },
    {
      "cell_type": "code",
      "execution_count": 30,
      "metadata": {
        "colab": {
          "base_uri": "https://localhost:8080/"
        },
        "id": "5OqFm2ppnuCW",
        "outputId": "9347ea3e-c300-4432-99f2-6193591fd1e1"
      },
      "outputs": [
        {
          "output_type": "stream",
          "name": "stdout",
          "text": [
            "+---------------+-----+\n",
            "|fraudPrediction|count|\n",
            "+---------------+-----+\n",
            "|              1|   55|\n",
            "|              0|31535|\n",
            "+---------------+-----+\n",
            "\n"
          ]
        }
      ],
      "source": [
        "predictions.groupBy(\"fraudPrediction\").count().show()"
      ]
    },
    {
      "cell_type": "code",
      "execution_count": 31,
      "metadata": {
        "scrolled": true,
        "colab": {
          "base_uri": "https://localhost:8080/"
        },
        "id": "r6TmACkcnuCW",
        "outputId": "89c4d8bc-3ad0-4508-dbf4-516460a32a8c"
      },
      "outputs": [
        {
          "output_type": "stream",
          "name": "stdout",
          "text": [
            "+-----+-----+\n",
            "|label|count|\n",
            "+-----+-----+\n",
            "|  0.0|31519|\n",
            "|  1.0|   71|\n",
            "+-----+-----+\n",
            "\n"
          ]
        }
      ],
      "source": [
        "predictions.groupBy(\"label\").count().show()"
      ]
    },
    {
      "cell_type": "code",
      "execution_count": 32,
      "metadata": {
        "id": "2DHEqODZnuCX"
      },
      "outputs": [],
      "source": [
        "from pyspark.sql.functions import col"
      ]
    },
    {
      "cell_type": "code",
      "execution_count": 33,
      "metadata": {
        "id": "kINX64VCnuCX"
      },
      "outputs": [],
      "source": [
        "accurateFraud = predictions.groupBy(\"fraudPrediction\").count().where(predictions.fraudPrediction==1).head()[1]"
      ]
    },
    {
      "cell_type": "code",
      "execution_count": 34,
      "metadata": {
        "id": "n5YjHRB0nuCX"
      },
      "outputs": [],
      "source": [
        "totalFraud = predictions.groupBy(\"label\").count().where(predictions.label==1).head()[1]"
      ]
    },
    {
      "cell_type": "code",
      "execution_count": 35,
      "metadata": {
        "id": "kGxkYsyfnuCd"
      },
      "outputs": [],
      "source": [
        "FraudPredictionAccuracy = (accurateFraud/totalFraud)*100"
      ]
    },
    {
      "cell_type": "code",
      "execution_count": 36,
      "metadata": {
        "colab": {
          "base_uri": "https://localhost:8080/"
        },
        "id": "ACpclwuqnuCd",
        "outputId": "19e83e98-b4cb-4f5a-a483-7187745ba5d6"
      },
      "outputs": [
        {
          "output_type": "execute_result",
          "data": {
            "text/plain": [
              "77.46478873239437"
            ]
          },
          "metadata": {},
          "execution_count": 36
        }
      ],
      "source": [
        "FraudPredictionAccuracy"
      ]
    },
    {
      "cell_type": "markdown",
      "metadata": {
        "id": "3TBseWYCnuCe"
      },
      "source": [
        "#### **Calcul da la matrice de confusion**"
      ]
    },
    {
      "cell_type": "code",
      "execution_count": 37,
      "metadata": {
        "id": "VWosg3hpnuCe"
      },
      "outputs": [],
      "source": [
        "tp = predictions[(predictions.label == 1) & (predictions.prediction == 1)].count()"
      ]
    },
    {
      "cell_type": "code",
      "execution_count": 38,
      "metadata": {
        "id": "OvIfeqVdnuCf"
      },
      "outputs": [],
      "source": [
        "tn = predictions[(predictions.label == 0) & (predictions.prediction == 0)].count()"
      ]
    },
    {
      "cell_type": "code",
      "execution_count": 39,
      "metadata": {
        "id": "akvybH6snuCf"
      },
      "outputs": [],
      "source": [
        "fp = predictions[(predictions.label == 0) & (predictions.prediction == 1)].count()"
      ]
    },
    {
      "cell_type": "code",
      "execution_count": 40,
      "metadata": {
        "id": "CHtTKrJ6nuCf"
      },
      "outputs": [],
      "source": [
        "fn = predictions[(predictions.label == 1) & (predictions.prediction == 0)].count()"
      ]
    },
    {
      "cell_type": "code",
      "execution_count": 41,
      "metadata": {
        "colab": {
          "base_uri": "https://localhost:8080/"
        },
        "id": "fON8fVBknuCg",
        "outputId": "c7aab01a-cb81-43b8-9a56-94ff1549ccf0"
      },
      "outputs": [
        {
          "output_type": "stream",
          "name": "stdout",
          "text": [
            "True Positive:  55 \n",
            "True Negative:  31509 \n",
            "False Positive:  10 \n",
            "False Negative:  16\n"
          ]
        }
      ],
      "source": [
        "print(\"True Positive: \",tp,\"\\nTrue Negative: \",tn,\"\\nFalse Positive: \",fp,\"\\nFalse Negative: \",fn)"
      ]
    },
    {
      "cell_type": "markdown",
      "metadata": {
        "id": "FLFHYurInuCh"
      },
      "source": [
        "### **Calcul du Rappel**"
      ]
    },
    {
      "cell_type": "code",
      "execution_count": 42,
      "metadata": {
        "colab": {
          "base_uri": "https://localhost:8080/"
        },
        "id": "JR9H-juWnuCh",
        "outputId": "10c94702-a33e-4539-c568-2dd1def502f7"
      },
      "outputs": [
        {
          "output_type": "stream",
          "name": "stdout",
          "text": [
            "Recall:  0.7746478873239436\n"
          ]
        }
      ],
      "source": [
        "print(\"Recall: \",tp/(tp+fn))"
      ]
    },
    {
      "cell_type": "markdown",
      "metadata": {
        "id": "DptZacOOnuCi"
      },
      "source": [
        "### Calcul de la précision"
      ]
    },
    {
      "cell_type": "code",
      "execution_count": 43,
      "metadata": {
        "colab": {
          "base_uri": "https://localhost:8080/"
        },
        "id": "RbrU4ro7nuCi",
        "outputId": "dad53e9d-61b3-4692-d4ed-19a03254d348"
      },
      "outputs": [
        {
          "output_type": "stream",
          "name": "stdout",
          "text": [
            "Precision:  0.8461538461538461\n"
          ]
        }
      ],
      "source": [
        "print(\"Precision: \", tp/(tp+fp))"
      ]
    },
    {
      "cell_type": "markdown",
      "source": [
        "#### **Clacul du F1-score**"
      ],
      "metadata": {
        "id": "ax4iOy2w_YPk"
      }
    },
    {
      "cell_type": "code",
      "source": [
        "\n",
        "Precision = tp / (tp + fp)\n",
        "\n",
        "\n",
        "Recall = tp / (tp + fn)\n",
        "\n",
        "\n",
        "f1 = 2 * (Precision * Recall) / (Precision + Recall)\n",
        "\n",
        "print(\"F1-score:\", f1)"
      ],
      "metadata": {
        "colab": {
          "base_uri": "https://localhost:8080/"
        },
        "id": "YZSOYSrZ9rrD",
        "outputId": "badf89e5-6ffa-4330-faad-ab39b26c7253"
      },
      "execution_count": 64,
      "outputs": [
        {
          "output_type": "stream",
          "name": "stdout",
          "text": [
            "F1-score: 0.8088235294117647\n"
          ]
        }
      ]
    }
  ],
  "metadata": {
    "kernelspec": {
      "display_name": "Python 3",
      "language": "python",
      "name": "python3"
    },
    "language_info": {
      "codemirror_mode": {
        "name": "ipython",
        "version": 3
      },
      "file_extension": ".py",
      "mimetype": "text/x-python",
      "name": "python",
      "nbconvert_exporter": "python",
      "pygments_lexer": "ipython3",
      "version": "3.5.2"
    },
    "colab": {
      "provenance": []
    }
  },
  "nbformat": 4,
  "nbformat_minor": 0
}